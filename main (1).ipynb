{
 "cells": [
  {
   "cell_type": "markdown",
   "metadata": {},
   "source": [
    "# Web Scraping Lab\n",
    "\n",
    "You will find in this notebook some scrapy exercises to practise your scraping skills.\n",
    "\n",
    "**Tips:**\n",
    "\n",
    "- Check the response status code for each request to ensure you have obtained the intended content.\n",
    "- Print the response text in each request to understand the kind of info you are getting and its format.\n",
    "- Check for patterns in the response text to extract the data/info requested in each question.\n",
    "- Visit the urls below and take a look at their source code through Chrome DevTools. You'll need to identify the html tags, special class names, etc used in the html content you are expected to extract.\n",
    "\n",
    "**Resources**:\n",
    "- [Requests library](http://docs.python-requests.org/en/master/#the-user-guide)\n",
    "- [Beautiful Soup Doc](https://www.crummy.com/software/BeautifulSoup/bs4/doc/)\n",
    "- [Urllib](https://docs.python.org/3/library/urllib.html#module-urllib)\n",
    "- [re lib](https://docs.python.org/3/library/re.html)\n",
    "- [lxml lib](https://lxml.de/)\n",
    "- [Scrapy](https://scrapy.org/)\n",
    "- [List of HTTP status codes](https://en.wikipedia.org/wiki/List_of_HTTP_status_codes)\n",
    "- [HTML basics](http://www.simplehtmlguide.com/cheatsheet.php)\n",
    "- [CSS basics](https://www.cssbasics.com/#page_start)"
   ]
  },
  {
   "cell_type": "markdown",
   "metadata": {},
   "source": [
    "#### Below are the libraries and modules you may need. `requests`,  `BeautifulSoup` and `pandas` are already imported for you. If you prefer to use additional libraries feel free to do it."
   ]
  },
  {
   "cell_type": "code",
   "execution_count": 1,
   "metadata": {},
   "outputs": [],
   "source": [
    "import requests\n",
    "from bs4 import BeautifulSoup\n",
    "import pandas as pd"
   ]
  },
  {
   "cell_type": "markdown",
   "metadata": {},
   "source": [
    "#### Download, parse (using BeautifulSoup), and print the content from the Trending Developers page from GitHub:"
   ]
  },
  {
   "cell_type": "code",
   "execution_count": 2,
   "metadata": {},
   "outputs": [],
   "source": [
    "# This is the url you will scrape in this exercise\n",
    "url = 'https://github.com/trending/developers'"
   ]
  },
  {
   "cell_type": "code",
   "execution_count": 3,
   "metadata": {},
   "outputs": [],
   "source": [
    "# your code here\n",
    "response = requests.get(url)"
   ]
  },
  {
   "cell_type": "code",
   "execution_count": 16,
   "metadata": {},
   "outputs": [
    {
     "name": "stdout",
     "output_type": "stream",
     "text": [
      "1. phuocng (moklick)\n",
      "2. Moritz Klack (moklick)\n",
      "3. Rui Chen (chenrui333)\n",
      "4. Vladimir Kharlampidi (nolimits4web)\n",
      "5. Stan Girard (StanGirard)\n",
      "6. Matthias Fey (rusty1s)\n",
      "7. Olivier Halligon (AliSoftware)\n",
      "8. Sean DuBois (Sean-Der)\n",
      "9. Paul Frazee (pfrazee)\n",
      "10. Ariel Mashraki (a8m)\n",
      "11. jdx (refcell)\n",
      "12. refcell.eth (refcell)\n",
      "13. MichaIng (Yidadaa)\n",
      "14. Yifei Zhang (Yidadaa)\n",
      "15. Eugene Yurtsev (eyurtsev)\n",
      "16. Carlos Scheidegger (cscheid)\n",
      "17. Robin Appelman (icewind1991)\n",
      "18. Romain Beauxis (toots)\n",
      "19. Zoltan Kochan (zkochan)\n",
      "20. lwouis (ClearlyClaire)\n",
      "21. Claire (ClearlyClaire)\n",
      "22. Nathan Rajlich (TooTallNate)\n",
      "23. James M Snell (jasnell)\n",
      "24. Adrian Garcia Badaracco (adriangb)\n",
      "25. Juan Julián Merelo Guervós (JJ)\n"
     ]
    }
   ],
   "source": [
    "if response.status_code == 200:\n",
    "    # Parse the HTML content of the page using BeautifulSoup\n",
    "    soup = BeautifulSoup(response.text, 'html.parser')\n",
    "    \n",
    "    # Find the elements containing developer names and repositories\n",
    "    developer_items = soup.find_all('article', class_='Box-row')\n",
    "\n",
    "    # Iterate through the developer items and print their details\n",
    "    for index, developer_item in enumerate(developer_items, start=1):\n",
    "        # Extract the developer name\n",
    "        developer_name = developer_item.find('h1').get_text(strip=True)\n",
    "        \n",
    "        # Extract the developer's username/repository\n",
    "        developer_repo = developer_item.find('h1').find_next('p').get_text(strip=True)\n",
    "        \n",
    "        # Print the developer's rank, name, and repository\n",
    "        print(f'{index}. {developer_name} ({developer_repo})')\n",
    "else:\n",
    "    print(f'Failed to retrieve the page. Status code: {response.status_code}')"
   ]
  },
  {
   "cell_type": "markdown",
   "metadata": {},
   "source": [
    "#### 1. Display the names of the trending developers retrieved in the previous step.\n",
    "\n",
    "Your output should be a Python list of developer names. Each name should not contain any html tag.\n",
    "\n",
    "**Instructions:**\n",
    "\n",
    "1. Find out the html tag and class names used for the developer names. You can achieve this using Chrome DevTools or clicking in 'Inspect' on any browser. Here is an example:\n",
    "\n",
    "![title](example_1.png)\n",
    "\n",
    "2. Use BeautifulSoup `find_all()` to extract all the html elements that contain the developer names. Hint: pass in the `attrs` parameter to specify the class.\n",
    "\n",
    "3. Loop through the elements found and get the text for each of them.\n",
    "\n",
    "4. While you are at it, use string manipulation techniques to replace whitespaces and linebreaks (i.e. `\\n`) in the *text* of each html element. Use a list to store the clean names. Hint: you may also use `.get_text()` instead of `.text` and pass in the desired parameters to do some string manipulation (check the documentation).\n",
    "\n",
    "5. Print the list of names.\n",
    "\n",
    "Your output should look like below:\n",
    "\n",
    "```\n",
    "['trimstray (@trimstray)',\n",
    " 'joewalnes (JoeWalnes)',\n",
    " 'charlax (Charles-AxelDein)',\n",
    " 'ForrestKnight (ForrestKnight)',\n",
    " 'revery-ui (revery-ui)',\n",
    " 'alibaba (Alibaba)',\n",
    " 'Microsoft (Microsoft)',\n",
    " 'github (GitHub)',\n",
    " 'facebook (Facebook)',\n",
    " 'boazsegev (Bo)',\n",
    " 'google (Google)',\n",
    " 'cloudfetch',\n",
    " 'sindresorhus (SindreSorhus)',\n",
    " 'tensorflow',\n",
    " 'apache (TheApacheSoftwareFoundation)',\n",
    " 'DevonCrawford (DevonCrawford)',\n",
    " 'ARMmbed (ArmMbed)',\n",
    " 'vuejs (vuejs)',\n",
    " 'fastai (fast.ai)',\n",
    " 'QiShaoXuan (Qi)',\n",
    " 'joelparkerhenderson (JoelParkerHenderson)',\n",
    " 'torvalds (LinusTorvalds)',\n",
    " 'CyC2018',\n",
    " 'komeiji-satori (神楽坂覚々)',\n",
    " 'script-8']\n",
    " ```"
   ]
  },
  {
   "cell_type": "code",
   "execution_count": 18,
   "metadata": {},
   "outputs": [
    {
     "name": "stdout",
     "output_type": "stream",
     "text": [
      "1. phuocng (moklick)\n",
      "2. Moritz Klack (moklick)\n",
      "3. Rui Chen (chenrui333)\n",
      "4. Vladimir Kharlampidi (nolimits4web)\n",
      "5. Stan Girard (StanGirard)\n",
      "6. Matthias Fey (rusty1s)\n",
      "7. Olivier Halligon (AliSoftware)\n",
      "8. Sean DuBois (Sean-Der)\n",
      "9. Paul Frazee (pfrazee)\n",
      "10. Ariel Mashraki (a8m)\n",
      "11. jdx (refcell)\n",
      "12. refcell.eth (refcell)\n",
      "13. MichaIng (Yidadaa)\n",
      "14. Yifei Zhang (Yidadaa)\n",
      "15. Eugene Yurtsev (eyurtsev)\n",
      "16. Carlos Scheidegger (cscheid)\n",
      "17. Robin Appelman (icewind1991)\n",
      "18. Romain Beauxis (toots)\n",
      "19. Zoltan Kochan (zkochan)\n",
      "20. lwouis (ClearlyClaire)\n",
      "21. Claire (ClearlyClaire)\n",
      "22. Nathan Rajlich (TooTallNate)\n",
      "23. James M Snell (jasnell)\n",
      "24. Adrian Garcia Badaracco (adriangb)\n",
      "25. Juan Julián Merelo Guervós (JJ)\n"
     ]
    }
   ],
   "source": [
    "# your code here\n",
    "if response.status_code == 200:\n",
    "    # Parse the HTML content of the page using BeautifulSoup\n",
    "    soup = BeautifulSoup(response.text, 'html.parser')\n",
    "    \n",
    "    # Find the elements containing developer names and repositories\n",
    "    developer_items = soup.find_all('article', class_='Box-row')\n",
    "\n",
    "    # Iterate through the developer items and print their details\n",
    "    for index, developer_item in enumerate(developer_items, start=1):\n",
    "        # Extract the developer name\n",
    "        developer_name = developer_item.find('h1').get_text(strip=True)\n",
    "        \n",
    "        # Extract the developer's username/repository\n",
    "        developer_repo = developer_item.find('h1').find_next('p').get_text(strip=True)\n",
    "        \n",
    "        # Print the developer's rank, name, and repository\n",
    "        print(f'{index}. {developer_name} ({developer_repo})')\n",
    "else:\n",
    "    print(f'Failed to retrieve the page. Status code: {response.status_code}')"
   ]
  },
  {
   "cell_type": "markdown",
   "metadata": {},
   "source": [
    "#### 1.1. Display the trending Python repositories in GitHub.\n",
    "\n",
    "The steps to solve this problem is similar to the previous one except that you need to find out the repository names instead of developer names."
   ]
  },
  {
   "cell_type": "code",
   "execution_count": null,
   "metadata": {},
   "outputs": [],
   "source": [
    "# This is the url you will scrape in this exercise\n",
    "url = 'https://github.com/trending/python?since=daily'"
   ]
  },
  {
   "cell_type": "code",
   "execution_count": 19,
   "metadata": {},
   "outputs": [],
   "source": [
    "# your code here\n",
    "# Send an HTTP GET request to the URL\n",
    "response = requests.get(url)"
   ]
  },
  {
   "cell_type": "code",
   "execution_count": 20,
   "metadata": {},
   "outputs": [
    {
     "name": "stdout",
     "output_type": "stream",
     "text": [
      "1. phuocng\n",
      "2. Moritz Klack\n",
      "3. Rui Chen\n",
      "4. Vladimir Kharlampidi\n",
      "5. Stan Girard\n",
      "6. Matthias Fey\n",
      "7. Olivier Halligon\n",
      "8. Sean DuBois\n",
      "9. Paul Frazee\n",
      "10. Ariel Mashraki\n",
      "11. jdx\n",
      "12. refcell.eth\n",
      "13. MichaIng\n",
      "14. Yifei Zhang\n",
      "15. Eugene Yurtsev\n",
      "16. Carlos Scheidegger\n",
      "17. Robin Appelman\n",
      "18. Romain Beauxis\n",
      "19. Zoltan Kochan\n",
      "20. lwouis\n",
      "21. Claire\n",
      "22. Nathan Rajlich\n",
      "23. James M Snell\n",
      "24. Adrian Garcia Badaracco\n",
      "25. Juan Julián Merelo Guervós\n"
     ]
    }
   ],
   "source": [
    "if response.status_code == 200:\n",
    "    # Parse the HTML content of the page using BeautifulSoup\n",
    "    soup = BeautifulSoup(response.text, 'html.parser')\n",
    "    \n",
    "    # Find the elements containing repository names\n",
    "    repo_items = soup.find_all('h1', class_='h3 lh-condensed')\n",
    "\n",
    "    # Iterate through the repository items and print their names\n",
    "    for index, repo_item in enumerate(repo_items, start=1):\n",
    "        # Extract the repository name\n",
    "        repo_name = repo_item.get_text(strip=True)\n",
    "        \n",
    "        # Print the repository name\n",
    "        print(f'{index}. {repo_name}')\n",
    "else:\n",
    "    print(f'Failed to retrieve the page. Status code: {response.status_code}')\n",
    "\n"
   ]
  },
  {
   "cell_type": "markdown",
   "metadata": {},
   "source": [
    "#### 2. Display all the image links from Walt Disney wikipedia page.\n",
    "Hint: use `.get()` to access information inside tags. Check out the documentation."
   ]
  },
  {
   "cell_type": "code",
   "execution_count": 21,
   "metadata": {},
   "outputs": [],
   "source": [
    "# This is the url you will scrape in this exercise\n",
    "url = 'https://en.wikipedia.org/wiki/Walt_Disney'"
   ]
  },
  {
   "cell_type": "code",
   "execution_count": 22,
   "metadata": {},
   "outputs": [],
   "source": [
    "# your code here\n",
    "# Send an HTTP GET request to the URL\n",
    "response = requests.get(url)"
   ]
  },
  {
   "cell_type": "code",
   "execution_count": 23,
   "metadata": {},
   "outputs": [
    {
     "name": "stdout",
     "output_type": "stream",
     "text": [
      "1. /static/images/icons/wikipedia.png\n",
      "2. /static/images/mobile/copyright/wikipedia-wordmark-en.svg\n",
      "3. /static/images/mobile/copyright/wikipedia-tagline-en.svg\n",
      "4. //upload.wikimedia.org/wikipedia/en/thumb/e/e7/Cscr-featured.svg/20px-Cscr-featured.svg.png\n",
      "5. //upload.wikimedia.org/wikipedia/en/thumb/8/8c/Extended-protection-shackle.svg/20px-Extended-protection-shackle.svg.png\n",
      "6. //upload.wikimedia.org/wikipedia/commons/thumb/d/df/Walt_Disney_1946.JPG/220px-Walt_Disney_1946.JPG\n",
      "7. //upload.wikimedia.org/wikipedia/commons/thumb/8/87/Walt_Disney_1942_signature.svg/150px-Walt_Disney_1942_signature.svg.png\n",
      "8. //upload.wikimedia.org/wikipedia/commons/thumb/3/3a/Walt_Disney_Birthplace_Exterior_Hermosa_Chicago_Illinois.jpg/220px-Walt_Disney_Birthplace_Exterior_Hermosa_Chicago_Illinois.jpg\n",
      "9. //upload.wikimedia.org/wikipedia/commons/thumb/c/c4/Walt_Disney_envelope_ca._1921.jpg/220px-Walt_Disney_envelope_ca._1921.jpg\n",
      "10. //upload.wikimedia.org/wikipedia/en/thumb/4/4e/Steamboat-willie.jpg/220px-Steamboat-willie.jpg\n",
      "11. //upload.wikimedia.org/wikipedia/commons/thumb/c/cd/Walt_Disney_Snow_white_1937_trailer_screenshot_%2813%29.jpg/220px-Walt_Disney_Snow_white_1937_trailer_screenshot_%2813%29.jpg\n",
      "12. //upload.wikimedia.org/wikipedia/commons/thumb/1/15/Disney_drawing_goofy.jpg/170px-Disney_drawing_goofy.jpg\n",
      "13. //upload.wikimedia.org/wikipedia/commons/thumb/8/8c/WaltDisneyplansDisneylandDec1954.jpg/220px-WaltDisneyplansDisneylandDec1954.jpg\n",
      "14. //upload.wikimedia.org/wikipedia/commons/thumb/f/ff/Walt_disney_portrait_right.jpg/170px-Walt_disney_portrait_right.jpg\n",
      "15. //upload.wikimedia.org/wikipedia/commons/thumb/1/1a/Walt_Disney_Grave.JPG/170px-Walt_Disney_Grave.JPG\n",
      "16. //upload.wikimedia.org/wikipedia/commons/thumb/1/13/DisneySchiphol1951.jpg/220px-DisneySchiphol1951.jpg\n",
      "17. //upload.wikimedia.org/wikipedia/commons/thumb/6/6c/Disney1968.jpg/170px-Disney1968.jpg\n",
      "18. //upload.wikimedia.org/wikipedia/commons/thumb/b/b0/Disney_Oscar_1953_%28cropped%29.jpg/170px-Disney_Oscar_1953_%28cropped%29.jpg\n",
      "19. //upload.wikimedia.org/wikipedia/en/thumb/4/4a/Commons-logo.svg/30px-Commons-logo.svg.png\n",
      "20. //upload.wikimedia.org/wikipedia/commons/thumb/4/4c/Wikisource-logo.svg/38px-Wikisource-logo.svg.png\n",
      "21. //upload.wikimedia.org/wikipedia/commons/thumb/f/fa/Wikiquote-logo.svg/34px-Wikiquote-logo.svg.png\n",
      "22. //upload.wikimedia.org/wikipedia/en/thumb/8/8a/OOjs_UI_icon_edit-ltr-progressive.svg/10px-OOjs_UI_icon_edit-ltr-progressive.svg.png\n",
      "23. //upload.wikimedia.org/wikipedia/en/thumb/8/8a/OOjs_UI_icon_edit-ltr-progressive.svg/10px-OOjs_UI_icon_edit-ltr-progressive.svg.png\n",
      "24. //upload.wikimedia.org/wikipedia/en/thumb/9/96/Symbol_category_class.svg/16px-Symbol_category_class.svg.png\n",
      "25. //upload.wikimedia.org/wikipedia/commons/thumb/e/e3/Disneyland_Resort_logo.svg/135px-Disneyland_Resort_logo.svg.png\n",
      "26. //upload.wikimedia.org/wikipedia/commons/thumb/d/da/Animation_disc.svg/20px-Animation_disc.svg.png\n",
      "27. //upload.wikimedia.org/wikipedia/en/thumb/6/69/P_vip.svg/19px-P_vip.svg.png\n",
      "28. //upload.wikimedia.org/wikipedia/commons/thumb/1/1a/Magic_Kingdom_castle.jpg/15px-Magic_Kingdom_castle.jpg\n",
      "29. //upload.wikimedia.org/wikipedia/en/thumb/e/e7/Video-x-generic.svg/19px-Video-x-generic.svg.png\n",
      "30. //upload.wikimedia.org/wikipedia/commons/thumb/a/a3/Flag_of_Los_Angeles_County%2C_California.svg/21px-Flag_of_Los_Angeles_County%2C_California.svg.png\n",
      "31. //upload.wikimedia.org/wikipedia/commons/thumb/8/8c/Blank_television_set.svg/21px-Blank_television_set.svg.png\n",
      "32. //upload.wikimedia.org/wikipedia/en/thumb/a/a4/Flag_of_the_United_States.svg/21px-Flag_of_the_United_States.svg.png\n",
      "33. //upload.wikimedia.org/wikipedia/en/thumb/4/4a/Commons-logo.svg/14px-Commons-logo.svg.png\n",
      "34. //upload.wikimedia.org/wikipedia/commons/thumb/f/fa/Wikiquote-logo.svg/16px-Wikiquote-logo.svg.png\n",
      "35. //upload.wikimedia.org/wikipedia/commons/thumb/4/4c/Wikisource-logo.svg/18px-Wikisource-logo.svg.png\n",
      "36. //upload.wikimedia.org/wikipedia/commons/thumb/f/ff/Wikidata-logo.svg/21px-Wikidata-logo.svg.png\n",
      "37. //upload.wikimedia.org/wikipedia/en/thumb/8/8a/OOjs_UI_icon_edit-ltr-progressive.svg/10px-OOjs_UI_icon_edit-ltr-progressive.svg.png\n",
      "38. //en.wikipedia.org/wiki/Special:CentralAutoLogin/start?type=1x1\n",
      "39. /static/images/footer/wikimedia-button.png\n",
      "40. /static/images/footer/poweredby_mediawiki_88x31.png\n"
     ]
    }
   ],
   "source": [
    "# Check if the request was successful (status code 200)\n",
    "if response.status_code == 200:\n",
    "    # Parse the HTML content of the page using BeautifulSoup\n",
    "    soup = BeautifulSoup(response.text, 'html.parser')\n",
    "    \n",
    "    # Find all image tags in the page\n",
    "    img_tags = soup.find_all('img')\n",
    "    \n",
    "    # Extract and print the source (URL) of each image\n",
    "    for index, img_tag in enumerate(img_tags, start=1):\n",
    "        img_src = img_tag.get('src')\n",
    "        print(f'{index}. {img_src}')\n",
    "else:\n",
    "    print(f'Failed to retrieve the page. Status code: {response.status_code}')"
   ]
  },
  {
   "cell_type": "markdown",
   "metadata": {},
   "source": [
    "#### 2.1. List all language names and number of related articles in the order they appear in wikipedia.org."
   ]
  },
  {
   "cell_type": "code",
   "execution_count": 30,
   "metadata": {},
   "outputs": [],
   "source": [
    "# This is the url you will scrape in this exercise\n",
    "url = 'https://www.wikipedia.org/'"
   ]
  },
  {
   "cell_type": "code",
   "execution_count": 32,
   "metadata": {},
   "outputs": [
    {
     "name": "stdout",
     "output_type": "stream",
     "text": [
      "1. English: 6 715 000+articles\n",
      "2. æ¥æ¬èª: 1 387 000+è¨äº\n",
      "3. EspaÃ±ol: 1 892 000+artÃ­culos\n",
      "4. Ð ÑÑÑÐºÐ¸Ð¹: 1 938 000+ÑÑÐ°ÑÐµÐ¹\n",
      "5. Deutsch: 2 836 000+Artikel\n",
      "6. FranÃ§ais: 2 553 000+articles\n",
      "7. Italiano: 1 826 000+voci\n",
      "8. ä¸­æ: 1 377 000+æ¡ç® / æ¢ç®\n",
      "9. PortuguÃªs: 1 109 000+artigos\n",
      "10. Ø§ÙØ¹Ø±Ø¨ÙØ©: 1 217 000+ÙÙØ§ÙØ©\n"
     ]
    }
   ],
   "source": [
    "# Send an HTTP GET request to the URL\n",
    "response = requests.get(url)\n",
    "\n",
    "# Check if the request was successful (status code 200)\n",
    "if response.status_code == 200:\n",
    "    # Parse the HTML content of the page using BeautifulSoup\n",
    "    soup = BeautifulSoup(response.text, 'html.parser')\n",
    "    \n",
    "    # Find the element that contains the list of languages and article counts\n",
    "    language_items = soup.find_all('a', class_='link-box')\n",
    "    \n",
    "    # Create a list to store language names and article counts\n",
    "    language_data = []\n",
    "    \n",
    "    # Iterate through the language items and add data to the list\n",
    "    for language_item in language_items:\n",
    "        # Extract the language name\n",
    "        language_name = language_item.find('strong').get_text(strip=True)\n",
    "        \n",
    "        # Extract the number of articles\n",
    "        article_count = language_item.find('small').get_text(strip=True)\n",
    "        \n",
    "        # Add language name and article count to the list\n",
    "        language_data.append(f'{language_name}: {article_count}')\n",
    "    \n",
    "    # Print the list of language names and article counts\n",
    "    for index, data in enumerate(language_data, start=1):\n",
    "        print(f'{index}. {data}')\n",
    "else:\n",
    "    print(f'Failed to retrieve the page. Status code: {response.status_code}')\n"
   ]
  },
  {
   "cell_type": "markdown",
   "metadata": {},
   "source": [
    "#### 2.2. Display the top 10 languages by number of native speakers stored in a pandas dataframe.\n",
    "Hint: After finding the correct table you want to analyse, you can use a nested **for** loop to find the elements row by row (check out the 'td' and 'tr' tags). <br>An easier way to do it is using pd.read_html(), check out documentation [here](https://pandas.pydata.org/pandas-docs/version/0.23.4/generated/pandas.read_html.html)."
   ]
  },
  {
   "cell_type": "code",
   "execution_count": 33,
   "metadata": {},
   "outputs": [],
   "source": [
    "# This is the url you will scrape in this exercise\n",
    "url = 'https://en.wikipedia.org/wiki/List_of_languages_by_number_of_native_speakers'"
   ]
  },
  {
   "cell_type": "code",
   "execution_count": 41,
   "metadata": {},
   "outputs": [
    {
     "name": "stdout",
     "output_type": "stream",
     "text": [
      "Tabla 1 - Filas: 27, Columnas: 4\n",
      "                                            Language  \\\n",
      "0  Mandarin Chinese (incl. Standard Chinese, but ...   \n",
      "1                                            Spanish   \n",
      "2                                            English   \n",
      "3            Hindi (excl. Urdu, and other languages)   \n",
      "4                                         Portuguese   \n",
      "5                                            Bengali   \n",
      "6                                            Russian   \n",
      "7                                           Japanese   \n",
      "8                      Yue Chinese (incl. Cantonese)   \n",
      "9                                         Vietnamese   \n",
      "\n",
      "   Native speakers (millions) Language family        Branch  \n",
      "0                       939.0    Sino-Tibetan       Sinitic  \n",
      "1                       485.0   Indo-European       Romance  \n",
      "2                       380.0   Indo-European      Germanic  \n",
      "3                       345.0   Indo-European    Indo-Aryan  \n",
      "4                       236.0   Indo-European       Romance  \n",
      "5                       234.0   Indo-European    Indo-Aryan  \n",
      "6                       147.0   Indo-European  Balto-Slavic  \n",
      "7                       123.0         Japonic      Japanese  \n",
      "8                        86.1    Sino-Tibetan       Sinitic  \n",
      "9                        85.0   Austroasiatic        Vietic  \n",
      "Tabla 2 - Filas: 11, Columnas: 3\n",
      "   Rank          Language Percentage of world population (2018)\n",
      "0     1  Mandarin Chinese                                 12.3%\n",
      "1     2           Spanish                                  6.0%\n",
      "2     3           English                                  5.1%\n",
      "3     3            Arabic                                  5.1%\n",
      "4     5             Hindi                                  3.5%\n",
      "5     6           Bengali                                  3.3%\n",
      "6     7        Portuguese                                  3.0%\n",
      "7     8           Russian                                  2.1%\n",
      "8     9          Japanese                                  1.7%\n",
      "9    10   Western Punjabi                                  1.3%\n",
      "Tabla 3 - Filas: 16, Columnas: 2\n",
      "  .mw-parser-output .navbar{display:inline;font-size:88%;font-weight:normal}.mw-parser-output .navbar-collapse{float:left;text-align:left}.mw-parser-output .navbar-boxtext{word-spacing:0}.mw-parser-output .navbar ul{display:inline-block;white-space:nowrap;line-height:inherit}.mw-parser-output .navbar-brackets::before{margin-right:-0.125em;content:\"[ \"}.mw-parser-output .navbar-brackets::after{margin-left:-0.125em;content:\" ]\"}.mw-parser-output .navbar li{word-spacing:-0.125em}.mw-parser-output .navbar a>span,.mw-parser-output .navbar a>abbr{text-decoration:inherit}.mw-parser-output .navbar-mini abbr{font-variant:small-caps;border-bottom:none;text-decoration:none;cursor:inherit}.mw-parser-output .navbar-ct-full{font-size:114%;margin:0 7em}.mw-parser-output .navbar-ct-mini{font-size:114%;margin:0 4em}vteCountries and languages lists  \\\n",
      "0  CountriesBy languagesOfficial Countries by the...                                                                                                                                                                                                                                                                                                                                                                                                                                                                                                                                                                                                                                                                                                                                                                                                                         \n",
      "1                                          Countries                                                                                                                                                                                                                                                                                                                                                                                                                                                                                                                                                                                                                                                                                                                                                                                                                         \n",
      "2  By languagesOfficial Countries by the number o...                                                                                                                                                                                                                                                                                                                                                                                                                                                                                                                                                                                                                                                                                                                                                                                                                         \n",
      "3                                       By languages                                                                                                                                                                                                                                                                                                                                                                                                                                                                                                                                                                                                                                                                                                                                                                                                                         \n",
      "4                                           Official                                                                                                                                                                                                                                                                                                                                                                                                                                                                                                                                                                                                                                                                                                                                                                                                                         \n",
      "5                                           Endonyms                                                                                                                                                                                                                                                                                                                                                                                                                                                                                                                                                                                                                                                                                                                                                                                                                         \n",
      "6                                            Exonyms                                                                                                                                                                                                                                                                                                                                                                                                                                                                                                                                                                                                                                                                                                                                                                                                                         \n",
      "7  LanguagesBy continent Africa Americas North So...                                                                                                                                                                                                                                                                                                                                                                                                                                                                                                                                                                                                                                                                                                                                                                                                                         \n",
      "8                                          Languages                                                                                                                                                                                                                                                                                                                                                                                                                                                                                                                                                                                                                                                                                                                                                                                                                         \n",
      "9  By continent Africa Americas North South Asia ...                                                                                                                                                                                                                                                                                                                                                                                                                                                                                                                                                                                                                                                                                                                                                                                                                         \n",
      "\n",
      "  .mw-parser-output .navbar{display:inline;font-size:88%;font-weight:normal}.mw-parser-output .navbar-collapse{float:left;text-align:left}.mw-parser-output .navbar-boxtext{word-spacing:0}.mw-parser-output .navbar ul{display:inline-block;white-space:nowrap;line-height:inherit}.mw-parser-output .navbar-brackets::before{margin-right:-0.125em;content:\"[ \"}.mw-parser-output .navbar-brackets::after{margin-left:-0.125em;content:\" ]\"}.mw-parser-output .navbar li{word-spacing:-0.125em}.mw-parser-output .navbar a>span,.mw-parser-output .navbar a>abbr{text-decoration:inherit}.mw-parser-output .navbar-mini abbr{font-variant:small-caps;border-bottom:none;text-decoration:none;cursor:inherit}.mw-parser-output .navbar-ct-full{font-size:114%;margin:0 7em}.mw-parser-output .navbar-ct-mini{font-size:114%;margin:0 4em}vteCountries and languages lists.1  \n",
      "0  CountriesBy languagesOfficial Countries by the...                                                                                                                                                                                                                                                                                                                                                                                                                                                                                                                                                                                                                                                                                                                                                                                                                          \n",
      "1                                          Countries                                                                                                                                                                                                                                                                                                                                                                                                                                                                                                                                                                                                                                                                                                                                                                                                                          \n",
      "2  By languagesOfficial Countries by the number o...                                                                                                                                                                                                                                                                                                                                                                                                                                                                                                                                                                                                                                                                                                                                                                                                                          \n",
      "3  Official Countries by the number of recognized...                                                                                                                                                                                                                                                                                                                                                                                                                                                                                                                                                                                                                                                                                                                                                                                                                          \n",
      "4  Countries by the number of recognized official...                                                                                                                                                                                                                                                                                                                                                                                                                                                                                                                                                                                                                                                                                                                                                                                                                          \n",
      "5         Countries and capitals in native languages                                                                                                                                                                                                                                                                                                                                                                                                                                                                                                                                                                                                                                                                                                                                                                                                                          \n",
      "6  Country names in various languages A–C D–I J–P...                                                                                                                                                                                                                                                                                                                                                                                                                                                                                                                                                                                                                                                                                                                                                                                                                          \n",
      "7  LanguagesBy continent Africa Americas North So...                                                                                                                                                                                                                                                                                                                                                                                                                                                                                                                                                                                                                                                                                                                                                                                                                          \n",
      "8                                          Languages                                                                                                                                                                                                                                                                                                                                                                                                                                                                                                                                                                                                                                                                                                                                                                                                                          \n",
      "9  By continent Africa Americas North South Asia ...                                                                                                                                                                                                                                                                                                                                                                                                                                                                                                                                                                                                                                                                                                                                                                                                                          \n",
      "Tabla 4 - Filas: 5, Columnas: 2\n",
      "                                           Countries  \\\n",
      "0  By languagesOfficial Countries by the number o...   \n",
      "1                                       By languages   \n",
      "2                                           Official   \n",
      "3                                           Endonyms   \n",
      "4                                            Exonyms   \n",
      "\n",
      "                                         Countries.1  \n",
      "0  By languagesOfficial Countries by the number o...  \n",
      "1  Official Countries by the number of recognized...  \n",
      "2  Countries by the number of recognized official...  \n",
      "3         Countries and capitals in native languages  \n",
      "4  Country names in various languages A–C D–I J–P...  \n",
      "Tabla 5 - Filas: 4, Columnas: 2\n",
      "              0                                                  1\n",
      "0  By languages  Official Countries by the number of recognized...\n",
      "1      Official  Countries by the number of recognized official...\n",
      "2      Endonyms         Countries and capitals in native languages\n",
      "3       Exonyms  Country names in various languages A–C D–I J–P...\n",
      "Tabla 6 - Filas: 1, Columnas: 2\n",
      "          0                                                  1\n",
      "0  Official  Countries by the number of recognized official...\n",
      "Tabla 7 - Filas: 7, Columnas: 2\n",
      "                                           Languages  \\\n",
      "0  By continent Africa Americas North South Asia ...   \n",
      "1                                       By continent   \n",
      "2                                         By country   \n",
      "3                                      By population   \n",
      "4                                          By family   \n",
      "5          Language-based geopolitical organizations   \n",
      "6                                           See also   \n",
      "\n",
      "                                         Languages.1  \n",
      "0  By continent Africa Americas North South Asia ...  \n",
      "1  Africa Americas North South Asia East South Eu...  \n",
      "2  Official languages by country and territory Li...  \n",
      "3  By number of native speakers Europe By number ...  \n",
      "4  Language families List of Afro-Asiatic languag...  \n",
      "5  Arab League (Arabic) Dutch Language Union (Dut...  \n",
      "6              Lists of languages Category:Languages  \n",
      "Tabla 8 - Filas: 6, Columnas: 2\n",
      "                                           0  \\\n",
      "0                               By continent   \n",
      "1                                 By country   \n",
      "2                              By population   \n",
      "3                                  By family   \n",
      "4  Language-based geopolitical organizations   \n",
      "5                                   See also   \n",
      "\n",
      "                                                   1  \n",
      "0  Africa Americas North South Asia East South Eu...  \n",
      "1  Official languages by country and territory Li...  \n",
      "2  By number of native speakers Europe By number ...  \n",
      "3  Language families List of Afro-Asiatic languag...  \n",
      "4  Arab League (Arabic) Dutch Language Union (Dut...  \n",
      "5              Lists of languages Category:Languages  \n"
     ]
    }
   ],
   "source": [
    "import pandas as pd\n",
    "\n",
    "# Define la URL\n",
    "url = 'https://en.wikipedia.org/wiki/List_of_languages_by_number_of_native_speakers'\n",
    "\n",
    "# Utiliza pd.read_html() para extraer las tablas de la página web\n",
    "tables = pd.read_html(url)\n",
    "\n",
    "# Inspecciona las tablas para encontrar la correcta\n",
    "for i, table in enumerate(tables):\n",
    "    print(f\"Tabla {i + 1} - Filas: {table.shape[0]}, Columnas: {table.shape[1]}\")\n",
    "    print(table.head(10))  # Muestra las primeras filas de cada tabla para inspeccionarla\n"
   ]
  },
  {
   "cell_type": "markdown",
   "metadata": {},
   "source": [
    "#### 3. Display IMDB's top 250 data (movie name, initial release, director name and stars) as a pandas dataframe.\n",
    "Hint: If you hover over the title of the movie, you should see the director's name. Can you find where it's stored in the html?"
   ]
  },
  {
   "cell_type": "code",
   "execution_count": 57,
   "metadata": {},
   "outputs": [],
   "source": [
    "# This is the url you will scrape in this exercise \n",
    "url = 'https://www.imdb.com/chart/top'"
   ]
  },
  {
   "cell_type": "code",
   "execution_count": 64,
   "metadata": {},
   "outputs": [
    {
     "ename": "ImportError",
     "evalue": "cannot import name 'IMD' from 'imdb' (c:\\Users\\Win10\\anaconda3\\Lib\\site-packages\\imdb\\__init__.py)",
     "output_type": "error",
     "traceback": [
      "\u001b[1;31m---------------------------------------------------------------------------\u001b[0m",
      "\u001b[1;31mImportError\u001b[0m                               Traceback (most recent call last)",
      "\u001b[1;32mc:\\Users\\Win10\\Downloads\\Lab1.week6\\main (1).ipynb Cell 26\u001b[0m line \u001b[0;36m4\n\u001b[0;32m      <a href='vscode-notebook-cell:/c%3A/Users/Win10/Downloads/Lab1.week6/main%20%281%29.ipynb#Y112sZmlsZQ%3D%3D?line=1'>2</a>\u001b[0m \u001b[39mimport\u001b[39;00m \u001b[39mrequests\u001b[39;00m\n\u001b[0;32m      <a href='vscode-notebook-cell:/c%3A/Users/Win10/Downloads/Lab1.week6/main%20%281%29.ipynb#Y112sZmlsZQ%3D%3D?line=2'>3</a>\u001b[0m \u001b[39mfrom\u001b[39;00m \u001b[39mbs4\u001b[39;00m \u001b[39mimport\u001b[39;00m BeautifulSoup\n\u001b[1;32m----> <a href='vscode-notebook-cell:/c%3A/Users/Win10/Downloads/Lab1.week6/main%20%281%29.ipynb#Y112sZmlsZQ%3D%3D?line=3'>4</a>\u001b[0m \u001b[39mfrom\u001b[39;00m \u001b[39mimdb\u001b[39;00m \u001b[39mimport\u001b[39;00m IMD\n\u001b[0;32m      <a href='vscode-notebook-cell:/c%3A/Users/Win10/Downloads/Lab1.week6/main%20%281%29.ipynb#Y112sZmlsZQ%3D%3D?line=5'>6</a>\u001b[0m \u001b[39m# Define the URL for IMDB's top 250 page\u001b[39;00m\n\u001b[0;32m      <a href='vscode-notebook-cell:/c%3A/Users/Win10/Downloads/Lab1.week6/main%20%281%29.ipynb#Y112sZmlsZQ%3D%3D?line=6'>7</a>\u001b[0m url \u001b[39m=\u001b[39m \u001b[39m'\u001b[39m\u001b[39mhttps://www.imdb.com/chart/top\u001b[39m\u001b[39m'\u001b[39m\n",
      "\u001b[1;31mImportError\u001b[0m: cannot import name 'IMD' from 'imdb' (c:\\Users\\Win10\\anaconda3\\Lib\\site-packages\\imdb\\__init__.py)"
     ]
    }
   ],
   "source": [
    "import pandas as pd\n",
    "import requests\n",
    "from bs4 import BeautifulSoup\n",
    "from imdb import IMD\n",
    "\n",
    "# Define the URL for IMDB's top 250 page\n",
    "url = 'https://www.imdb.com/chart/top'\n",
    "\n",
    "# Send a GET request to the URL\n",
    "response = requests.get(url)\n",
    "b\n",
    "\n",
    "# Create an instance of the IMDb class\n",
    "ia = IMDb()\n",
    "\n",
    "# Get the top 250 movies\n",
    "top250 = ia.get_top250_movies()\n",
    "# Check if the request was successful (status code 200)\n",
    "if response.status_code == 200:\n",
    "    soup = BeautifulSoup(response.text, 'html.parser')\n",
    "\n",
    "    # Find the table that contains the movie data\n",
    "    table = soup.find('table', {'class': 'chart full-width'})\n",
    "\n",
    "    # Create empty lists to store data\n",
    "    movie_names = []\n",
    "    release_years = []\n",
    "    director_names = []\n",
    "    star_ratings = []\n",
    "\n",
    "    # Iterate through the rows of the table\n",
    "    for row in table.find_all('tr')[1:]:  # Start from the second row to skip headers\n",
    "        cells = row.find_all('td')\n",
    "\n",
    "        # Extract movie name\n",
    "        movie_name = cells[1].find('a').text.strip()\n",
    "        movie_names.append(movie_name)\n",
    "\n",
    "        # Extract initial release year\n",
    "        release_year = int(cells[1].find('span', {'class': 'secondaryInfo'}).text.strip('()'))\n",
    "        release_years.append(release_year)\n",
    "\n",
    "        # Extract director name from the \"title\" attribute of the movie link (hint)\n",
    "        title = cells[1].find('a')['title']\n",
    "        director_name = title.split('(')[-1].strip(')')\n",
    "        director_names.append(director_name)\n",
    "\n",
    "        # Extract star rating\n",
    "        star_rating = float(cells[2].find('strong').text.strip())\n",
    "        star_ratings.append(star_rating)\n",
    "\n",
    "    # Create a pandas dataframe from the extracted data\n",
    "    imdb_top_250_df = pd.DataFrame({\n",
    "        'Movie Name': movie_names,\n",
    "        'Initial Release': release_years,\n",
    "        'Director Name': director_names,\n",
    "        'Star Rating': star_ratings\n",
    "    })\n",
    "\n",
    "    # Display the dataframe\n",
    "    print(imdb_top_250_df)\n",
    "\n",
    "else:\n",
    "    print('Error: Unable to retrieve the IMDB page.')\n"
   ]
  },
  {
   "cell_type": "markdown",
   "metadata": {},
   "source": [
    "#### 3.1. Display the movie name, year and a brief summary of the top 10 random movies (IMDB) as a pandas dataframe."
   ]
  },
  {
   "cell_type": "code",
   "execution_count": 65,
   "metadata": {},
   "outputs": [],
   "source": [
    "#This is the url you will scrape in this exercise\n",
    "url = 'https://www.imdb.com/list/ls009796553/'"
   ]
  },
  {
   "cell_type": "code",
   "execution_count": 68,
   "metadata": {},
   "outputs": [
    {
     "name": "stdout",
     "output_type": "stream",
     "text": [
      "                             Movie Name Release Year  \\\n",
      "69                   70.\\nBones\\n(2001)         2001   \n",
      "19          20.\\nAntwone Fisher\\n(2002)         2002   \n",
      "51          52.\\nBatman Forever\\n(1995)         1995   \n",
      "54      55.\\nLa novia de Chucky\\n(1998)         1998   \n",
      "82          83.\\nBeyond the Sea\\n(2004)         2004   \n",
      "64                65.\\nBaby Boy\\n(2001)         2001   \n",
      "60           61.\\nEl informador\\n(2000)         2000   \n",
      "70  71.\\nEl chico de la burbuja\\n(2001)         2001   \n",
      "53                54.\\nBulworth\\n(1998)         1998   \n",
      "56                    57.\\nBait\\n(2000)         2000   \n",
      "\n",
      "                                           Summary  \n",
      "69               18\\n|\\n96 min\\n|\\n\\nCrime, Horror  \n",
      "19            7\\n|\\n120 min\\n|\\n\\nBiography, Drama  \n",
      "51          13\\n|\\n121 min\\n|\\n\\nAction, Adventure  \n",
      "54    18\\n|\\n89 min\\n|\\n\\nComedy, Horror, Thriller  \n",
      "82     A\\n|\\n118 min\\n|\\n\\nBiography, Drama, Music  \n",
      "64      18\\n|\\n130 min\\n|\\n\\nCrime, Drama, Romance  \n",
      "60      R\\n|\\n120 min\\n|\\n\\nCrime, Drama, Thriller  \n",
      "70  TP\\n|\\n84 min\\n|\\n\\nAdventure, Comedy, Romance  \n",
      "53     13\\n|\\n108 min\\n|\\n\\nComedy, Drama, Romance  \n",
      "56      13\\n|\\n119 min\\n|\\n\\nAction, Comedy, Crime  \n"
     ]
    }
   ],
   "source": [
    "import pandas as pd\n",
    "import requests\n",
    "from bs4 import BeautifulSoup\n",
    "import random\n",
    "\n",
    "# Define the URL for the IMDb list page\n",
    "url = 'https://www.imdb.com/list/ls009796553/'\n",
    "\n",
    "# Send a GET request to the URL\n",
    "response = requests.get(url)\n",
    "\n",
    "# Check if the request was successful (status code 200)\n",
    "if response.status_code == 200:\n",
    "    soup = BeautifulSoup(response.text, 'html.parser')\n",
    "\n",
    "    # Find the list of movies\n",
    "    movie_list = soup.find('div', {'class': 'lister-list'})\n",
    "\n",
    "    # Create empty lists to store data\n",
    "    movie_names = []\n",
    "    release_years = []\n",
    "    movie_summaries = []\n",
    "\n",
    "    # Iterate through the list of movies\n",
    "    for movie in movie_list.find_all('div', {'class': 'lister-item-content'}):\n",
    "        # Extract movie name\n",
    "        movie_name = movie.find('h3').text.strip()\n",
    "        movie_names.append(movie_name)\n",
    "\n",
    "        # Extract release year\n",
    "        release_year = movie.find('span', {'class': 'lister-item-year'}).text.strip('()')\n",
    "        release_years.append(release_year)\n",
    "\n",
    "        # Extract movie summary (if available)\n",
    "        summary = movie.find('p', {'class': 'text-muted'})\n",
    "        if summary:\n",
    "            movie_summary = summary.text.strip()\n",
    "        else:\n",
    "            movie_summary = 'Summary not available'\n",
    "        movie_summaries.append(movie_summary)\n",
    "\n",
    "    # Create a pandas dataframe from the extracted data\n",
    "    imdb_movie_list_df = pd.DataFrame({\n",
    "        'Movie Name': movie_names,\n",
    "        'Release Year': release_years,\n",
    "        'Summary': movie_summaries\n",
    "    })\n",
    "\n",
    "    # Select 10 random movies from the dataframe\n",
    "    random.seed(42)  # Setting a seed for reproducibility\n",
    "    top_10_random_movies = imdb_movie_list_df.sample(10)\n",
    "\n",
    "    # Display the top 10 random movies\n",
    "    print(top_10_random_movies)\n",
    "\n",
    "else:\n",
    "    print('Error: Unable to retrieve the IMDb list page.')\n"
   ]
  },
  {
   "cell_type": "markdown",
   "metadata": {},
   "source": [
    "## Bonus"
   ]
  },
  {
   "cell_type": "markdown",
   "metadata": {},
   "source": [
    "#### Find the live weather report (temperature, wind speed, description and weather) of a given city."
   ]
  },
  {
   "cell_type": "code",
   "execution_count": null,
   "metadata": {},
   "outputs": [],
   "source": [
    "#https://openweathermap.org/current\n",
    "city = input('Enter the city: ')\n",
    "url = 'http://api.openweathermap.org/data/2.5/weather?'+'q='+city+'&APPID=b35975e18dc93725acb092f7272cc6b8&units=metric'"
   ]
  },
  {
   "cell_type": "code",
   "execution_count": null,
   "metadata": {},
   "outputs": [],
   "source": [
    "# your code here"
   ]
  },
  {
   "cell_type": "markdown",
   "metadata": {},
   "source": [
    "#### Find the book name, price and stock availability as a pandas dataframe."
   ]
  },
  {
   "cell_type": "code",
   "execution_count": null,
   "metadata": {},
   "outputs": [],
   "source": [
    "# This is the url you will scrape in this exercise. \n",
    "# It is a fictional bookstore created to be scraped. \n",
    "url = 'http://books.toscrape.com/'"
   ]
  },
  {
   "cell_type": "code",
   "execution_count": null,
   "metadata": {},
   "outputs": [],
   "source": [
    "# your code here"
   ]
  },
  {
   "cell_type": "markdown",
   "metadata": {},
   "source": [
    "####  Display the 100 latest earthquakes info (date, time, latitude, longitude and region name) by the EMSC as a pandas dataframe.\n",
    "***Hint:*** Here the displayed number of earthquakes per page is 20, but you can easily move to the next page by looping through the desired number of pages and adding it to the end of the url."
   ]
  },
  {
   "cell_type": "code",
   "execution_count": null,
   "metadata": {},
   "outputs": [],
   "source": [
    "# This is the url you will scrape in this exercise\n",
    "url = 'https://www.emsc-csem.org/Earthquake/?view='\n",
    "\n",
    "# This is how you will loop through each page:\n",
    "number_of_pages = int(100/20)\n",
    "each_page_urls = []\n",
    "\n",
    "for n in range(1, number_of_pages+1):\n",
    "    link = url+str(n)\n",
    "    each_page_urls.append(link)\n",
    "    \n",
    "each_page_urls"
   ]
  },
  {
   "cell_type": "code",
   "execution_count": null,
   "metadata": {},
   "outputs": [],
   "source": [
    "# your code here"
   ]
  }
 ],
 "metadata": {
  "kernelspec": {
   "display_name": "Python 3",
   "language": "python",
   "name": "python3"
  },
  "language_info": {
   "codemirror_mode": {
    "name": "ipython",
    "version": 3
   },
   "file_extension": ".py",
   "mimetype": "text/x-python",
   "name": "python",
   "nbconvert_exporter": "python",
   "pygments_lexer": "ipython3",
   "version": "3.11.3"
  }
 },
 "nbformat": 4,
 "nbformat_minor": 2
}
